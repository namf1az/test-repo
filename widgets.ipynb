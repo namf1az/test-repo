{
 "cells": [
  {
   "cell_type": "code",
   "execution_count": null,
   "id": "596f54b1",
   "metadata": {},
   "outputs": [],
   "source": [
    "import datetime\n",
    "import numpy as np\n",
    "import pandas as pd\n",
    "\n",
    "import plotly.graph_objects as go\n",
    "from ipywidgets import widgets"
   ]
  },
  {
   "cell_type": "code",
   "execution_count": null,
   "id": "021d0e67",
   "metadata": {},
   "outputs": [],
   "source": [
    "month = widgets.IntSlider(\n",
    "    value=1.0,\n",
    "    min=1.0,\n",
    "    max=12.0,\n",
    "    step=1.0,\n",
    "    description='Month:',\n",
    "    continuous_update=False\n",
    ")\n",
    "\n",
    "use_date = widgets.Checkbox(\n",
    "    description='Date: ',\n",
    "    value=True,\n",
    ")\n",
    "\n",
    "container = widgets.HBox(children=[use_date, month])\n",
    "textbox = widgets.Dropdown(\n",
    "    description='Airline:   ',\n",
    "    value='DL',\n",
    "    options=df['carrier'].unique().tolist()\n",
    ")\n",
    "\n",
    "origin = widgets.Dropdown(\n",
    "    options=list(df['origin'].unique()),\n",
    "    value='LGA',\n",
    "    description='Origin Airport:',\n",
    ")\n",
    "\n",
    "\n",
    "# Assign an empty figure widget with two traces\n",
    "trace1 = go.Histogram(x=df['arr_delay'], opacity=0.75, name='Arrival Delays')\n",
    "trace2 = go.Histogram(x=df['dep_delay'], opacity=0.75, name='Departure Delays')\n",
    "g = go.FigureWidget(data=[trace1, trace2],\n",
    "                    layout=go.Layout(\n",
    "                        title=dict(\n",
    "                            text='NYC FlightDatabase'\n",
    "                        ),\n",
    "                        barmode='overlay'\n",
    "                    ))"
   ]
  },
  {
   "cell_type": "code",
   "execution_count": null,
   "id": "c6f34d9b",
   "metadata": {},
   "outputs": [],
   "source": [
    "df = pd.read_csv(\n",
    "    'https://raw.githubusercontent.com/yankev/testing/master/datasets/nycflights.csv')\n",
    "df = df.drop(df.columns[[0]], axis=1)"
   ]
  },
  {
   "cell_type": "code",
   "execution_count": null,
   "id": "5a9d3051",
   "metadata": {},
   "outputs": [],
   "source": [
    "df"
   ]
  },
  {
   "cell_type": "code",
   "execution_count": null,
   "id": "b94be6f2",
   "metadata": {},
   "outputs": [],
   "source": [
    "def validate():\n",
    "    if origin.value in df['origin'].unique() and textbox.value in df['carrier'].unique():\n",
    "        return True\n",
    "    else:\n",
    "        return False\n",
    "\n",
    "\n",
    "def response(change):\n",
    "    if validate():\n",
    "        if use_date.value:\n",
    "            filter_list = [i and j and k for i, j, k in\n",
    "                           zip(df['month'] == month.value, df['carrier'] == textbox.value,\n",
    "                               df['origin'] == origin.value)]\n",
    "            temp_df = df[filter_list]\n",
    "\n",
    "        else:\n",
    "            filter_list = [i and j for i, j in\n",
    "                           zip(df['carrier'] == 'DL', df['origin'] == origin.value)]\n",
    "            temp_df = df[filter_list]\n",
    "        x1 = temp_df['arr_delay']\n",
    "        x2 = temp_df['dep_delay']\n",
    "        with g.batch_update():\n",
    "            g.data[0].x = x1\n",
    "            g.data[1].x = x2\n",
    "            g.layout.barmode = 'overlay'\n",
    "            g.layout.xaxis.title = 'Delay in Minutes'\n",
    "            g.layout.yaxis.title = 'Number of Delays'\n",
    "\n",
    "\n",
    "origin.observe(response, names=\"value\")\n",
    "textbox.observe(response, names=\"value\")\n",
    "month.observe(response, names=\"value\")\n",
    "use_date.observe(response, names=\"value\")"
   ]
  },
  {
   "cell_type": "code",
   "execution_count": null,
   "id": "06f26074",
   "metadata": {},
   "outputs": [],
   "source": [
    "container2 = widgets.HBox([origin, textbox])\n",
    "widgets.VBox([container,\n",
    "              container2,\n",
    "              g])"
   ]
  },
  {
   "cell_type": "code",
   "execution_count": null,
   "id": "9fe838e6",
   "metadata": {},
   "outputs": [],
   "source": []
  }
 ],
 "metadata": {
  "kernelspec": {
   "display_name": "Python 3 (ipykernel)",
   "language": "python",
   "name": "python3"
  },
  "language_info": {
   "codemirror_mode": {
    "name": "ipython",
    "version": 3
   },
   "file_extension": ".py",
   "mimetype": "text/x-python",
   "name": "python",
   "nbconvert_exporter": "python",
   "pygments_lexer": "ipython3",
   "version": "3.8.13"
  },
  "widgets": {
   "application/vnd.jupyter.widget-state+json": {
    "state": {
     "104c2d8f2b034bdbbf4a04e5531b8079": {
      "model_module": "@jupyter-widgets/base",
      "model_module_version": "1.2.0",
      "model_name": "LayoutModel",
      "state": {}
     },
     "192658d3cde3488c9f9725945cadad7c": {
      "model_module": "@jupyter-widgets/controls",
      "model_module_version": "1.5.0",
      "model_name": "HBoxModel",
      "state": {
       "children": [
        "IPY_MODEL_4da37683b5f9451f974c4406985d1453",
        "IPY_MODEL_804a10be16a343e3a00f0405e0faf2bc"
       ],
       "layout": "IPY_MODEL_104c2d8f2b034bdbbf4a04e5531b8079"
      }
     },
     "2294c216a86646f79bdbd177638f13f3": {
      "model_module": "@jupyter-widgets/controls",
      "model_module_version": "1.5.0",
      "model_name": "DescriptionStyleModel",
      "state": {
       "description_width": ""
      }
     },
     "30d8eae755f6411fbf437a82a1d15ba9": {
      "model_module": "@jupyter-widgets/controls",
      "model_module_version": "1.5.0",
      "model_name": "DescriptionStyleModel",
      "state": {
       "description_width": ""
      }
     },
     "3e774915792f4514b57b8c550527e5d7": {
      "model_module": "@jupyter-widgets/base",
      "model_module_version": "1.2.0",
      "model_name": "LayoutModel",
      "state": {}
     },
     "42f0390f044f4d7db1626a6f114f1439": {
      "model_module": "@jupyter-widgets/controls",
      "model_module_version": "1.5.0",
      "model_name": "DescriptionStyleModel",
      "state": {
       "description_width": ""
      }
     },
     "4da37683b5f9451f974c4406985d1453": {
      "model_module": "@jupyter-widgets/controls",
      "model_module_version": "1.5.0",
      "model_name": "DropdownModel",
      "state": {
       "_options_labels": [
        "EWR",
        "LGA",
        "JFK"
       ],
       "description": "Origin Airport:",
       "index": 0,
       "layout": "IPY_MODEL_95b3120e818a4fd2961cb3d1e5ec7b7c",
       "style": "IPY_MODEL_bde85e7fa34d413b9023c8024c8f00ff"
      }
     },
     "62fcd004ce57420391165f3214f7120a": {
      "model_module": "@jupyter-widgets/controls",
      "model_module_version": "1.5.0",
      "model_name": "IntSliderModel",
      "state": {
       "continuous_update": false,
       "description": "Month:",
       "layout": "IPY_MODEL_df287c400b22415ba510e5ba0e0bcba1",
       "max": 12,
       "min": 1,
       "style": "IPY_MODEL_fe6842669c6e4d88b974edfd2890ea43",
       "value": 7
      }
     },
     "6cba1eebe8e64fb2b1538a482cdf025a": {
      "model_module": "@jupyter-widgets/base",
      "model_module_version": "1.2.0",
      "model_name": "LayoutModel",
      "state": {}
     },
     "761d3115ffef4c7cae1ce21cea5c26ec": {
      "model_module": "@jupyter-widgets/controls",
      "model_module_version": "1.5.0",
      "model_name": "CheckboxModel",
      "state": {
       "description": "Date: ",
       "disabled": false,
       "layout": "IPY_MODEL_aaad3e3bdc1246efbb9710d9353d3a80",
       "style": "IPY_MODEL_2294c216a86646f79bdbd177638f13f3",
       "value": true
      }
     },
     "804a10be16a343e3a00f0405e0faf2bc": {
      "model_module": "@jupyter-widgets/controls",
      "model_module_version": "1.5.0",
      "model_name": "DropdownModel",
      "state": {
       "_options_labels": [
        "UA",
        "AA",
        "B6",
        "DL",
        "EV",
        "MQ",
        "US",
        "WN",
        "VX",
        "FL",
        "AS",
        "9E",
        "F9",
        "HA",
        "YV",
        "OO"
       ],
       "description": "Airline:   ",
       "index": 1,
       "layout": "IPY_MODEL_82be6b7fc74b4bde9a5851b9b95ddb1d",
       "style": "IPY_MODEL_30d8eae755f6411fbf437a82a1d15ba9"
      }
     },
     "82be6b7fc74b4bde9a5851b9b95ddb1d": {
      "model_module": "@jupyter-widgets/base",
      "model_module_version": "1.2.0",
      "model_name": "LayoutModel",
      "state": {}
     },
     "95b3120e818a4fd2961cb3d1e5ec7b7c": {
      "model_module": "@jupyter-widgets/base",
      "model_module_version": "1.2.0",
      "model_name": "LayoutModel",
      "state": {}
     },
     "96e4d5869b9045dfa1755bc2af48b270": {
      "model_module": "@jupyter-widgets/base",
      "model_module_version": "1.2.0",
      "model_name": "LayoutModel",
      "state": {}
     },
     "9eaf83a86eeb4124b7fc2d5cf0a4615b": {
      "model_module": "@jupyter-widgets/controls",
      "model_module_version": "1.5.0",
      "model_name": "HBoxModel",
      "state": {
       "children": [
        "IPY_MODEL_761d3115ffef4c7cae1ce21cea5c26ec",
        "IPY_MODEL_62fcd004ce57420391165f3214f7120a"
       ],
       "layout": "IPY_MODEL_3e774915792f4514b57b8c550527e5d7"
      }
     },
     "a2c69e96189c45edbcb420e7f8a247c4": {
      "buffers": [
       {
        "data": "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",
        "encoding": "base64",
        "path": [
         "_data",
         0,
         "x",
         "value"
        ]
       },
       {
        "data": "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",
        "encoding": "base64",
        "path": [
         "_data",
         1,
         "x",
         "value"
        ]
       }
      ],
      "model_module": "jupyterlab-plotly",
      "model_module_version": "^5.9.0",
      "model_name": "FigureModel",
      "state": {
       "_config": {
        "plotlyServerURL": "https://plot.ly"
       },
       "_data": [
        {
         "name": "Arrival Delays",
         "opacity": 0.75,
         "type": "histogram",
         "uid": "4b7f0d16-2626-4f8d-aee2-36eeae0265ba",
         "x": {
          "dtype": "float64",
          "shape": [
           303
          ]
         }
        },
        {
         "name": "Departure Delays",
         "opacity": 0.75,
         "type": "histogram",
         "uid": "d3937ad9-986a-4d0f-ab59-97e34fe53e8f",
         "x": {
          "dtype": "float64",
          "shape": [
           303
          ]
         }
        }
       ],
       "_js2py_pointsCallback": {},
       "_js2py_restyle": {},
       "_js2py_update": {},
       "_last_layout_edit_id": 7,
       "_last_trace_edit_id": 6,
       "_layout": {
        "autosize": true,
        "barmode": "overlay",
        "template": {
         "data": {
          "bar": [
           {
            "error_x": {
             "color": "#2a3f5f"
            },
            "error_y": {
             "color": "#2a3f5f"
            },
            "marker": {
             "line": {
              "color": "#E5ECF6",
              "width": 0.5
             },
             "pattern": {
              "fillmode": "overlay",
              "size": 10,
              "solidity": 0.2
             }
            },
            "type": "bar"
           }
          ],
          "barpolar": [
           {
            "marker": {
             "line": {
              "color": "#E5ECF6",
              "width": 0.5
             },
             "pattern": {
              "fillmode": "overlay",
              "size": 10,
              "solidity": 0.2
             }
            },
            "type": "barpolar"
           }
          ],
          "carpet": [
           {
            "aaxis": {
             "endlinecolor": "#2a3f5f",
             "gridcolor": "white",
             "linecolor": "white",
             "minorgridcolor": "white",
             "startlinecolor": "#2a3f5f"
            },
            "baxis": {
             "endlinecolor": "#2a3f5f",
             "gridcolor": "white",
             "linecolor": "white",
             "minorgridcolor": "white",
             "startlinecolor": "#2a3f5f"
            },
            "type": "carpet"
           }
          ],
          "choropleth": [
           {
            "colorbar": {
             "outlinewidth": 0,
             "ticks": ""
            },
            "type": "choropleth"
           }
          ],
          "contour": [
           {
            "colorbar": {
             "outlinewidth": 0,
             "ticks": ""
            },
            "colorscale": [
             [
              0,
              "#0d0887"
             ],
             [
              0.1111111111111111,
              "#46039f"
             ],
             [
              0.2222222222222222,
              "#7201a8"
             ],
             [
              0.3333333333333333,
              "#9c179e"
             ],
             [
              0.4444444444444444,
              "#bd3786"
             ],
             [
              0.5555555555555556,
              "#d8576b"
             ],
             [
              0.6666666666666666,
              "#ed7953"
             ],
             [
              0.7777777777777778,
              "#fb9f3a"
             ],
             [
              0.8888888888888888,
              "#fdca26"
             ],
             [
              1,
              "#f0f921"
             ]
            ],
            "type": "contour"
           }
          ],
          "contourcarpet": [
           {
            "colorbar": {
             "outlinewidth": 0,
             "ticks": ""
            },
            "type": "contourcarpet"
           }
          ],
          "heatmap": [
           {
            "colorbar": {
             "outlinewidth": 0,
             "ticks": ""
            },
            "colorscale": [
             [
              0,
              "#0d0887"
             ],
             [
              0.1111111111111111,
              "#46039f"
             ],
             [
              0.2222222222222222,
              "#7201a8"
             ],
             [
              0.3333333333333333,
              "#9c179e"
             ],
             [
              0.4444444444444444,
              "#bd3786"
             ],
             [
              0.5555555555555556,
              "#d8576b"
             ],
             [
              0.6666666666666666,
              "#ed7953"
             ],
             [
              0.7777777777777778,
              "#fb9f3a"
             ],
             [
              0.8888888888888888,
              "#fdca26"
             ],
             [
              1,
              "#f0f921"
             ]
            ],
            "type": "heatmap"
           }
          ],
          "heatmapgl": [
           {
            "colorbar": {
             "outlinewidth": 0,
             "ticks": ""
            },
            "colorscale": [
             [
              0,
              "#0d0887"
             ],
             [
              0.1111111111111111,
              "#46039f"
             ],
             [
              0.2222222222222222,
              "#7201a8"
             ],
             [
              0.3333333333333333,
              "#9c179e"
             ],
             [
              0.4444444444444444,
              "#bd3786"
             ],
             [
              0.5555555555555556,
              "#d8576b"
             ],
             [
              0.6666666666666666,
              "#ed7953"
             ],
             [
              0.7777777777777778,
              "#fb9f3a"
             ],
             [
              0.8888888888888888,
              "#fdca26"
             ],
             [
              1,
              "#f0f921"
             ]
            ],
            "type": "heatmapgl"
           }
          ],
          "histogram": [
           {
            "marker": {
             "pattern": {
              "fillmode": "overlay",
              "size": 10,
              "solidity": 0.2
             }
            },
            "type": "histogram"
           }
          ],
          "histogram2d": [
           {
            "colorbar": {
             "outlinewidth": 0,
             "ticks": ""
            },
            "colorscale": [
             [
              0,
              "#0d0887"
             ],
             [
              0.1111111111111111,
              "#46039f"
             ],
             [
              0.2222222222222222,
              "#7201a8"
             ],
             [
              0.3333333333333333,
              "#9c179e"
             ],
             [
              0.4444444444444444,
              "#bd3786"
             ],
             [
              0.5555555555555556,
              "#d8576b"
             ],
             [
              0.6666666666666666,
              "#ed7953"
             ],
             [
              0.7777777777777778,
              "#fb9f3a"
             ],
             [
              0.8888888888888888,
              "#fdca26"
             ],
             [
              1,
              "#f0f921"
             ]
            ],
            "type": "histogram2d"
           }
          ],
          "histogram2dcontour": [
           {
            "colorbar": {
             "outlinewidth": 0,
             "ticks": ""
            },
            "colorscale": [
             [
              0,
              "#0d0887"
             ],
             [
              0.1111111111111111,
              "#46039f"
             ],
             [
              0.2222222222222222,
              "#7201a8"
             ],
             [
              0.3333333333333333,
              "#9c179e"
             ],
             [
              0.4444444444444444,
              "#bd3786"
             ],
             [
              0.5555555555555556,
              "#d8576b"
             ],
             [
              0.6666666666666666,
              "#ed7953"
             ],
             [
              0.7777777777777778,
              "#fb9f3a"
             ],
             [
              0.8888888888888888,
              "#fdca26"
             ],
             [
              1,
              "#f0f921"
             ]
            ],
            "type": "histogram2dcontour"
           }
          ],
          "mesh3d": [
           {
            "colorbar": {
             "outlinewidth": 0,
             "ticks": ""
            },
            "type": "mesh3d"
           }
          ],
          "parcoords": [
           {
            "line": {
             "colorbar": {
              "outlinewidth": 0,
              "ticks": ""
             }
            },
            "type": "parcoords"
           }
          ],
          "pie": [
           {
            "automargin": true,
            "type": "pie"
           }
          ],
          "scatter": [
           {
            "fillpattern": {
             "fillmode": "overlay",
             "size": 10,
             "solidity": 0.2
            },
            "type": "scatter"
           }
          ],
          "scatter3d": [
           {
            "line": {
             "colorbar": {
              "outlinewidth": 0,
              "ticks": ""
             }
            },
            "marker": {
             "colorbar": {
              "outlinewidth": 0,
              "ticks": ""
             }
            },
            "type": "scatter3d"
           }
          ],
          "scattercarpet": [
           {
            "marker": {
             "colorbar": {
              "outlinewidth": 0,
              "ticks": ""
             }
            },
            "type": "scattercarpet"
           }
          ],
          "scattergeo": [
           {
            "marker": {
             "colorbar": {
              "outlinewidth": 0,
              "ticks": ""
             }
            },
            "type": "scattergeo"
           }
          ],
          "scattergl": [
           {
            "marker": {
             "colorbar": {
              "outlinewidth": 0,
              "ticks": ""
             }
            },
            "type": "scattergl"
           }
          ],
          "scattermapbox": [
           {
            "marker": {
             "colorbar": {
              "outlinewidth": 0,
              "ticks": ""
             }
            },
            "type": "scattermapbox"
           }
          ],
          "scatterpolar": [
           {
            "marker": {
             "colorbar": {
              "outlinewidth": 0,
              "ticks": ""
             }
            },
            "type": "scatterpolar"
           }
          ],
          "scatterpolargl": [
           {
            "marker": {
             "colorbar": {
              "outlinewidth": 0,
              "ticks": ""
             }
            },
            "type": "scatterpolargl"
           }
          ],
          "scatterternary": [
           {
            "marker": {
             "colorbar": {
              "outlinewidth": 0,
              "ticks": ""
             }
            },
            "type": "scatterternary"
           }
          ],
          "surface": [
           {
            "colorbar": {
             "outlinewidth": 0,
             "ticks": ""
            },
            "colorscale": [
             [
              0,
              "#0d0887"
             ],
             [
              0.1111111111111111,
              "#46039f"
             ],
             [
              0.2222222222222222,
              "#7201a8"
             ],
             [
              0.3333333333333333,
              "#9c179e"
             ],
             [
              0.4444444444444444,
              "#bd3786"
             ],
             [
              0.5555555555555556,
              "#d8576b"
             ],
             [
              0.6666666666666666,
              "#ed7953"
             ],
             [
              0.7777777777777778,
              "#fb9f3a"
             ],
             [
              0.8888888888888888,
              "#fdca26"
             ],
             [
              1,
              "#f0f921"
             ]
            ],
            "type": "surface"
           }
          ],
          "table": [
           {
            "cells": {
             "fill": {
              "color": "#EBF0F8"
             },
             "line": {
              "color": "white"
             }
            },
            "header": {
             "fill": {
              "color": "#C8D4E3"
             },
             "line": {
              "color": "white"
             }
            },
            "type": "table"
           }
          ]
         },
         "layout": {
          "annotationdefaults": {
           "arrowcolor": "#2a3f5f",
           "arrowhead": 0,
           "arrowwidth": 1
          },
          "autotypenumbers": "strict",
          "coloraxis": {
           "colorbar": {
            "outlinewidth": 0,
            "ticks": ""
           }
          },
          "colorscale": {
           "diverging": [
            [
             0,
             "#8e0152"
            ],
            [
             0.1,
             "#c51b7d"
            ],
            [
             0.2,
             "#de77ae"
            ],
            [
             0.3,
             "#f1b6da"
            ],
            [
             0.4,
             "#fde0ef"
            ],
            [
             0.5,
             "#f7f7f7"
            ],
            [
             0.6,
             "#e6f5d0"
            ],
            [
             0.7,
             "#b8e186"
            ],
            [
             0.8,
             "#7fbc41"
            ],
            [
             0.9,
             "#4d9221"
            ],
            [
             1,
             "#276419"
            ]
           ],
           "sequential": [
            [
             0,
             "#0d0887"
            ],
            [
             0.1111111111111111,
             "#46039f"
            ],
            [
             0.2222222222222222,
             "#7201a8"
            ],
            [
             0.3333333333333333,
             "#9c179e"
            ],
            [
             0.4444444444444444,
             "#bd3786"
            ],
            [
             0.5555555555555556,
             "#d8576b"
            ],
            [
             0.6666666666666666,
             "#ed7953"
            ],
            [
             0.7777777777777778,
             "#fb9f3a"
            ],
            [
             0.8888888888888888,
             "#fdca26"
            ],
            [
             1,
             "#f0f921"
            ]
           ],
           "sequentialminus": [
            [
             0,
             "#0d0887"
            ],
            [
             0.1111111111111111,
             "#46039f"
            ],
            [
             0.2222222222222222,
             "#7201a8"
            ],
            [
             0.3333333333333333,
             "#9c179e"
            ],
            [
             0.4444444444444444,
             "#bd3786"
            ],
            [
             0.5555555555555556,
             "#d8576b"
            ],
            [
             0.6666666666666666,
             "#ed7953"
            ],
            [
             0.7777777777777778,
             "#fb9f3a"
            ],
            [
             0.8888888888888888,
             "#fdca26"
            ],
            [
             1,
             "#f0f921"
            ]
           ]
          },
          "colorway": [
           "#636efa",
           "#EF553B",
           "#00cc96",
           "#ab63fa",
           "#FFA15A",
           "#19d3f3",
           "#FF6692",
           "#B6E880",
           "#FF97FF",
           "#FECB52"
          ],
          "font": {
           "color": "#2a3f5f"
          },
          "geo": {
           "bgcolor": "white",
           "lakecolor": "white",
           "landcolor": "#E5ECF6",
           "showlakes": true,
           "showland": true,
           "subunitcolor": "white"
          },
          "hoverlabel": {
           "align": "left"
          },
          "hovermode": "closest",
          "mapbox": {
           "style": "light"
          },
          "paper_bgcolor": "white",
          "plot_bgcolor": "#E5ECF6",
          "polar": {
           "angularaxis": {
            "gridcolor": "white",
            "linecolor": "white",
            "ticks": ""
           },
           "bgcolor": "#E5ECF6",
           "radialaxis": {
            "gridcolor": "white",
            "linecolor": "white",
            "ticks": ""
           }
          },
          "scene": {
           "xaxis": {
            "backgroundcolor": "#E5ECF6",
            "gridcolor": "white",
            "gridwidth": 2,
            "linecolor": "white",
            "showbackground": true,
            "ticks": "",
            "zerolinecolor": "white"
           },
           "yaxis": {
            "backgroundcolor": "#E5ECF6",
            "gridcolor": "white",
            "gridwidth": 2,
            "linecolor": "white",
            "showbackground": true,
            "ticks": "",
            "zerolinecolor": "white"
           },
           "zaxis": {
            "backgroundcolor": "#E5ECF6",
            "gridcolor": "white",
            "gridwidth": 2,
            "linecolor": "white",
            "showbackground": true,
            "ticks": "",
            "zerolinecolor": "white"
           }
          },
          "shapedefaults": {
           "line": {
            "color": "#2a3f5f"
           }
          },
          "ternary": {
           "aaxis": {
            "gridcolor": "white",
            "linecolor": "white",
            "ticks": ""
           },
           "baxis": {
            "gridcolor": "white",
            "linecolor": "white",
            "ticks": ""
           },
           "bgcolor": "#E5ECF6",
           "caxis": {
            "gridcolor": "white",
            "linecolor": "white",
            "ticks": ""
           }
          },
          "title": {
           "x": 0.05
          },
          "xaxis": {
           "automargin": true,
           "gridcolor": "white",
           "linecolor": "white",
           "ticks": "",
           "title": {
            "standoff": 15
           },
           "zerolinecolor": "white",
           "zerolinewidth": 2
          },
          "yaxis": {
           "automargin": true,
           "gridcolor": "white",
           "linecolor": "white",
           "ticks": "",
           "title": {
            "standoff": 15
           },
           "zerolinecolor": "white",
           "zerolinewidth": 2
          }
         }
        },
        "title": {
         "text": "NYC FlightDatabase"
        },
        "xaxis": {
         "title": {
          "text": "Delay in Minutes"
         }
        },
        "yaxis": {
         "title": {
          "text": "Number of Delays"
         }
        }
       },
       "_py2js_addTraces": {},
       "_py2js_animate": {},
       "_py2js_deleteTraces": {},
       "_py2js_moveTraces": {},
       "_py2js_removeLayoutProps": {},
       "_py2js_removeTraceProps": {},
       "_py2js_restyle": {},
       "_view_count": 1
      }
     },
     "aaad3e3bdc1246efbb9710d9353d3a80": {
      "model_module": "@jupyter-widgets/base",
      "model_module_version": "1.2.0",
      "model_name": "LayoutModel",
      "state": {}
     },
     "baa326df934845b8a116d81ba7e9e022": {
      "model_module": "@jupyter-widgets/base",
      "model_module_version": "1.2.0",
      "model_name": "LayoutModel",
      "state": {}
     },
     "bc51403313c9416ea79b3cb6b584d1ff": {
      "model_module": "@jupyter-widgets/controls",
      "model_module_version": "1.5.0",
      "model_name": "VBoxModel",
      "state": {
       "children": [
        "IPY_MODEL_9eaf83a86eeb4124b7fc2d5cf0a4615b",
        "IPY_MODEL_192658d3cde3488c9f9725945cadad7c",
        "IPY_MODEL_a2c69e96189c45edbcb420e7f8a247c4"
       ],
       "layout": "IPY_MODEL_d54a997fe7e0450489ea7f449d0ab644"
      }
     },
     "bd5659feec6c434089e4171ca7e3f3f2": {
      "model_module": "@jupyter-widgets/controls",
      "model_module_version": "1.5.0",
      "model_name": "CheckboxModel",
      "state": {
       "description": "Date: ",
       "disabled": false,
       "layout": "IPY_MODEL_96e4d5869b9045dfa1755bc2af48b270",
       "style": "IPY_MODEL_42f0390f044f4d7db1626a6f114f1439",
       "value": true
      }
     },
     "bde85e7fa34d413b9023c8024c8f00ff": {
      "model_module": "@jupyter-widgets/controls",
      "model_module_version": "1.5.0",
      "model_name": "DescriptionStyleModel",
      "state": {
       "description_width": ""
      }
     },
     "c246a5a60fe4406eb3d6bd71fcb8b673": {
      "model_module": "@jupyter-widgets/controls",
      "model_module_version": "1.5.0",
      "model_name": "HBoxModel",
      "state": {
       "children": [
        "IPY_MODEL_bd5659feec6c434089e4171ca7e3f3f2",
        "IPY_MODEL_e7df42f3c92440de8de8a43575d74666"
       ],
       "layout": "IPY_MODEL_6cba1eebe8e64fb2b1538a482cdf025a"
      }
     },
     "d54a997fe7e0450489ea7f449d0ab644": {
      "model_module": "@jupyter-widgets/base",
      "model_module_version": "1.2.0",
      "model_name": "LayoutModel",
      "state": {}
     },
     "df287c400b22415ba510e5ba0e0bcba1": {
      "model_module": "@jupyter-widgets/base",
      "model_module_version": "1.2.0",
      "model_name": "LayoutModel",
      "state": {}
     },
     "e7df42f3c92440de8de8a43575d74666": {
      "model_module": "@jupyter-widgets/controls",
      "model_module_version": "1.5.0",
      "model_name": "IntSliderModel",
      "state": {
       "continuous_update": false,
       "description": "Month:",
       "layout": "IPY_MODEL_baa326df934845b8a116d81ba7e9e022",
       "max": 12,
       "min": 1,
       "style": "IPY_MODEL_f412eb745af64d119bc814b80aa53cf0",
       "value": 1
      }
     },
     "f412eb745af64d119bc814b80aa53cf0": {
      "model_module": "@jupyter-widgets/controls",
      "model_module_version": "1.5.0",
      "model_name": "SliderStyleModel",
      "state": {
       "description_width": ""
      }
     },
     "fe6842669c6e4d88b974edfd2890ea43": {
      "model_module": "@jupyter-widgets/controls",
      "model_module_version": "1.5.0",
      "model_name": "SliderStyleModel",
      "state": {
       "description_width": ""
      }
     }
    },
    "version_major": 2,
    "version_minor": 0
   }
  }
 },
 "nbformat": 4,
 "nbformat_minor": 5
}
